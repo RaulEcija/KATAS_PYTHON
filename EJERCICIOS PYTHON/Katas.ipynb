{
 "cells": [
  {
   "cell_type": "code",
   "execution_count": 1,
   "id": "5002a56e",
   "metadata": {},
   "outputs": [
    {
     "name": "stdout",
     "output_type": "stream",
     "text": [
      "{'m': 2, 'i': 1, 'n': 1, 'o': 1, 'b': 1, 'r': 2, 'e': 2, 's': 1, 'a': 1, 'ú': 1, 'l': 1}\n"
     ]
    }
   ],
   "source": [
    "# Kata 1: Escribe una función que reciba una cadena de texto como parámetro y devuelva un diccionario con las frecuencias\n",
    "# de cada letra en la cadena. Los espacios no deben ser considerados.\n",
    "\n",
    "# Se escribe una función que muestre las frecuencias de las letras en una cadena de texto:\n",
    "def contar_frecuencias_letras(cadena):\n",
    "    frecuencias = {}\n",
    "    for letra in cadena:\n",
    "        if letra != \" \":  # Ignora los espacios\n",
    "            letra = letra.lower()  # Convierte todo a minúsculas\n",
    "            if letra in frecuencias:\n",
    "                frecuencias[letra] += 1\n",
    "            else:\n",
    "                frecuencias[letra] = 1\n",
    "    return frecuencias\n",
    "\n",
    "# Cadena de texto:\n",
    "texto = \"Mi nombre es Raúl\"\n",
    "\n",
    "# Para obtener el resultado:\n",
    "resultado = contar_frecuencias_letras(texto)\n",
    "print(resultado)"
   ]
  },
  {
   "cell_type": "code",
   "execution_count": 1,
   "id": "2df41f8f",
   "metadata": {},
   "outputs": [
    {
     "name": "stdout",
     "output_type": "stream",
     "text": [
      "[2, 4, 6, 8]\n"
     ]
    }
   ],
   "source": [
    "# Kata 2: Dada una lista de números, obtén una nueva lista con el doble de cada valor. Usa la función map()\n",
    "\n",
    "# Lista:\n",
    "numeros = [1, 2, 3, 4]\n",
    "\n",
    "# map() aplica la función lambda (x * 2) a cada elemento de la lista\n",
    "# lambda x: x * 2 es la función que devuelve el doble de \"x\"\n",
    "dobles = list(map(lambda x: x * 2, numeros))\n",
    "\n",
    "# Imprime la nueva lista con los valores solicitados como x 2:\n",
    "print(dobles)\n"
   ]
  },
  {
   "cell_type": "code",
   "execution_count": 2,
   "id": "9760f8e8",
   "metadata": {},
   "outputs": [
    {
     "name": "stdout",
     "output_type": "stream",
     "text": [
      "['amarillo', 'amapola', 'amargo']\n"
     ]
    }
   ],
   "source": [
    "# Kata 3: Escribe una función que tome una lista de palabras y una palabra objetivo como parámetros. La función debe\n",
    "# devolver una lista con todas las palabras de la lista original que contengan la palabra objetivo.\n",
    "\n",
    "# Se escribe la función que busca las palabras que contienen la palabra objetivo:\n",
    "def buscar_palabras(lista_palabras, palabra_objetivo):\n",
    "    resultado = []\n",
    "    for palabra in lista_palabras:\n",
    "        if palabra_objetivo in palabra:\n",
    "            resultado.append(palabra)\n",
    "    return resultado\n",
    "\n",
    "# Lista:\n",
    "lista = [\"amarillo\", \"naranja\", \"amapola\", \"rojo\", \"amargo\"]\n",
    "\n",
    "# Palabra objetivo:\n",
    "objetivo = \"ama\"\n",
    "\n",
    "# Se busca cada palabra que contiene \"ama\":\n",
    "palabras_encontradas = buscar_palabras(lista, objetivo)\n",
    "\n",
    "# Para mostrar el resultado:\n",
    "print(palabras_encontradas)\n"
   ]
  },
  {
   "cell_type": "code",
   "execution_count": 4,
   "id": "bd99d8c3",
   "metadata": {},
   "outputs": [
    {
     "name": "stdout",
     "output_type": "stream",
     "text": [
      "[-9, -18, -27, -36, -45]\n"
     ]
    }
   ],
   "source": [
    "# Kata 4: Genera una función que calcule la diferencia entre los valores de dos listas. Usa la función map()\n",
    "\n",
    "# Se escribe la función que calcula la diferencia entre dos listas:\n",
    "def diferencia_listas(lista1, lista2):\n",
    "    # Se resta elemento a elemento usando map y lambda\n",
    "    return list(map(lambda x, y: x - y, lista1, lista2))\n",
    "\n",
    "# Listas:\n",
    "lista_a = [1, 2, 3, 4, 5]\n",
    "lista_b = [10, 20, 30, 40, 50]\n",
    "\n",
    "# Para calcular la deferencia y que sea más facil imprimir el resultado:\n",
    "resultado = diferencia_listas(lista_a, lista_b)\n",
    "\n",
    "print(resultado)\n",
    "# Como se puede ver, el resultado puede ser números negativos.\n"
   ]
  },
  {
   "cell_type": "code",
   "execution_count": 5,
   "id": "77a809c0",
   "metadata": {},
   "outputs": [
    {
     "name": "stdout",
     "output_type": "stream",
     "text": [
      "(5.75, 'aprobado')\n"
     ]
    }
   ],
   "source": [
    "# Kata 5: Ecribe una función que tome una lista de números como parámetro y un valor opcional nota_aprobado, que por\n",
    "# defecto es 5. La función debe calcular la media de los números en la lista y determinar si la media es mayor o igual\n",
    "# que nota aprobado. Si es así, el estado será \"aprobado\", de lo contrario, será \"suspenso\". La función debe devolver\n",
    "# una tupla que contenga la media y el estado.\n",
    "\n",
    "# Se define la función que evalúa las notas y calcula la media de las mismas:\n",
    "def evaluar_notas(lista_numeros, nota_aprobado=5):\n",
    "    # Se calcula la media de la lista de números:\n",
    "    media = sum(lista_numeros) / len(lista_numeros) if lista_numeros else 0\n",
    "    \n",
    "    # Se verifica si está \"aprobado\" o \"suspenso\" según la media y la nota de aprobado\n",
    "    if media >= nota_aprobado:\n",
    "        estado = \"aprobado\"\n",
    "    else:\n",
    "        estado = \"suspenso\"\n",
    "    \n",
    "    # Se crea una tupla con la media y el estado\n",
    "    return (media, estado)\n",
    "\n",
    "# Lista de notas:\n",
    "notas = [7, 2, 5, 1, 8, 9, 10, 4]\n",
    "resultado = evaluar_notas(notas)\n",
    "print(resultado)\n"
   ]
  },
  {
   "cell_type": "code",
   "execution_count": 6,
   "id": "4865a5f5",
   "metadata": {},
   "outputs": [
    {
     "name": "stdout",
     "output_type": "stream",
     "text": [
      "El factorial de 5 es: 120\n"
     ]
    }
   ],
   "source": [
    " # Kata 6: Escribe una función que calcule el factorial de un número de manera recursiva.\n",
    "\n",
    "# Se define la función que calcula el fatorial de un número de manera recursiva:\n",
    "def factorial(n):\n",
    "    # Para este caso se toma que el factorial de 0 o 1 es 1, a partir de ahí se calcula:\n",
    "    if n == 0 or n == 1:\n",
    "        return 1\n",
    "    else:\n",
    "        # Es aquí cuando se hace la recursiva:\n",
    "        return n * factorial(n - 1)\n",
    "\n",
    "# Por ejemplo marco como número:\n",
    "numero = 5\n",
    "resultado = factorial(numero)\n",
    "print(f\"El factorial de {numero} es: {resultado}\")\n"
   ]
  },
  {
   "cell_type": "code",
   "execution_count": null,
   "id": "410a30e7",
   "metadata": {},
   "outputs": [],
   "source": []
  }
 ],
 "metadata": {
  "kernelspec": {
   "display_name": "Python 3",
   "language": "python",
   "name": "python3"
  },
  "language_info": {
   "codemirror_mode": {
    "name": "ipython",
    "version": 3
   },
   "file_extension": ".py",
   "mimetype": "text/x-python",
   "name": "python",
   "nbconvert_exporter": "python",
   "pygments_lexer": "ipython3",
   "version": "3.13.2"
  }
 },
 "nbformat": 4,
 "nbformat_minor": 5
}
