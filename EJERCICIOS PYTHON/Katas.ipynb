{
 "cells": [
  {
   "cell_type": "code",
   "execution_count": 1,
   "id": "5002a56e",
   "metadata": {},
   "outputs": [
    {
     "name": "stdout",
     "output_type": "stream",
     "text": [
      "{'m': 2, 'i': 1, 'n': 1, 'o': 1, 'b': 1, 'r': 2, 'e': 2, 's': 1, 'a': 1, 'ú': 1, 'l': 1}\n"
     ]
    }
   ],
   "source": [
    "# Kata 1: Escribe una función que reciba una cadena de texto como parámetro y devuelva un diccionario con las frecuencias\n",
    "# de cada letra en la cadena. Los espacios no deben ser considerados.\n",
    "\n",
    "# Se escribe una función que muestre las frecuencias de las letras en una cadena de texto:\n",
    "def contar_frecuencias_letras(cadena):\n",
    "    frecuencias = {}\n",
    "    for letra in cadena:\n",
    "        if letra != \" \":  # Ignora los espacios\n",
    "            letra = letra.lower()  # Convierte todo a minúsculas\n",
    "            if letra in frecuencias:\n",
    "                frecuencias[letra] += 1\n",
    "            else:\n",
    "                frecuencias[letra] = 1\n",
    "    return frecuencias\n",
    "\n",
    "# Cadena de texto:\n",
    "texto = \"Mi nombre es Raúl\"\n",
    "\n",
    "# Para obtener el resultado:\n",
    "resultado = contar_frecuencias_letras(texto)\n",
    "print(resultado)"
   ]
  },
  {
   "cell_type": "code",
   "execution_count": 1,
   "id": "2df41f8f",
   "metadata": {},
   "outputs": [
    {
     "name": "stdout",
     "output_type": "stream",
     "text": [
      "[2, 4, 6, 8]\n"
     ]
    }
   ],
   "source": [
    "# Kata 2: Dada una lista de números, obtén una nueva lista con el doble de cada valor. Usa la función map()\n",
    "\n",
    "# Lista:\n",
    "numeros = [1, 2, 3, 4]\n",
    "\n",
    "# map() aplica la función lambda (x * 2) a cada elemento de la lista\n",
    "# lambda x: x * 2 es la función que devuelve el doble de \"x\"\n",
    "dobles = list(map(lambda x: x * 2, numeros))\n",
    "\n",
    "# Imprime la nueva lista con los valores solicitados como x 2:\n",
    "print(dobles)\n"
   ]
  },
  {
   "cell_type": "code",
   "execution_count": 2,
   "id": "9760f8e8",
   "metadata": {},
   "outputs": [
    {
     "name": "stdout",
     "output_type": "stream",
     "text": [
      "['amarillo', 'amapola', 'amargo']\n"
     ]
    }
   ],
   "source": [
    "# Kata 3: Escribe una función que tome una lista de palabras y una palabra objetivo como parámetros. La función debe\n",
    "# devolver una lista con todas las palabras de la lista original que contengan la palabra objetivo.\n",
    "\n",
    "# Se escribe la función que busca las palabras que contienen la palabra objetivo:\n",
    "def buscar_palabras(lista_palabras, palabra_objetivo):\n",
    "    resultado = []\n",
    "    for palabra in lista_palabras:\n",
    "        if palabra_objetivo in palabra:\n",
    "            resultado.append(palabra)\n",
    "    return resultado\n",
    "\n",
    "# Lista:\n",
    "lista = [\"amarillo\", \"naranja\", \"amapola\", \"rojo\", \"amargo\"]\n",
    "\n",
    "# Palabra objetivo:\n",
    "objetivo = \"ama\"\n",
    "\n",
    "# Se busca cada palabra que contiene \"ama\":\n",
    "palabras_encontradas = buscar_palabras(lista, objetivo)\n",
    "\n",
    "# Para mostrar el resultado:\n",
    "print(palabras_encontradas)\n"
   ]
  },
  {
   "cell_type": "code",
   "execution_count": 4,
   "id": "bd99d8c3",
   "metadata": {},
   "outputs": [
    {
     "name": "stdout",
     "output_type": "stream",
     "text": [
      "[-9, -18, -27, -36, -45]\n"
     ]
    }
   ],
   "source": [
    "# Kata 4: Genera una función que calcule la diferencia entre los valores de dos listas. Usa la función map()\n",
    "\n",
    "# Se escribe la función que calcula la diferencia entre dos listas:\n",
    "def diferencia_listas(lista1, lista2):\n",
    "    # Se resta elemento a elemento usando map y lambda\n",
    "    return list(map(lambda x, y: x - y, lista1, lista2))\n",
    "\n",
    "# Listas:\n",
    "lista_a = [1, 2, 3, 4, 5]\n",
    "lista_b = [10, 20, 30, 40, 50]\n",
    "\n",
    "# Para calcular la deferencia y que sea más facil imprimir el resultado:\n",
    "resultado = diferencia_listas(lista_a, lista_b)\n",
    "\n",
    "print(resultado)\n",
    "# Como se puede ver, el resultado puede ser números negativos.\n"
   ]
  },
  {
   "cell_type": "code",
   "execution_count": 5,
   "id": "77a809c0",
   "metadata": {},
   "outputs": [
    {
     "name": "stdout",
     "output_type": "stream",
     "text": [
      "(5.75, 'aprobado')\n"
     ]
    }
   ],
   "source": [
    "# Kata 5: Ecribe una función que tome una lista de números como parámetro y un valor opcional nota_aprobado, que por\n",
    "# defecto es 5. La función debe calcular la media de los números en la lista y determinar si la media es mayor o igual\n",
    "# que nota aprobado. Si es así, el estado será \"aprobado\", de lo contrario, será \"suspenso\". La función debe devolver\n",
    "# una tupla que contenga la media y el estado.\n",
    "\n",
    "# Se define la función que evalúa las notas y calcula la media de las mismas:\n",
    "def evaluar_notas(lista_numeros, nota_aprobado=5):\n",
    "    # Se calcula la media de la lista de números:\n",
    "    media = sum(lista_numeros) / len(lista_numeros) if lista_numeros else 0\n",
    "    \n",
    "    # Se verifica si está \"aprobado\" o \"suspenso\" según la media y la nota de aprobado\n",
    "    if media >= nota_aprobado:\n",
    "        estado = \"aprobado\"\n",
    "    else:\n",
    "        estado = \"suspenso\"\n",
    "    \n",
    "    # Se crea una tupla con la media y el estado\n",
    "    return (media, estado)\n",
    "\n",
    "# Lista de notas:\n",
    "notas = [7, 2, 5, 1, 8, 9, 10, 4]\n",
    "resultado = evaluar_notas(notas)\n",
    "print(resultado)\n"
   ]
  },
  {
   "cell_type": "code",
   "execution_count": 6,
   "id": "4865a5f5",
   "metadata": {},
   "outputs": [
    {
     "name": "stdout",
     "output_type": "stream",
     "text": [
      "El factorial de 5 es: 120\n"
     ]
    }
   ],
   "source": [
    " # Kata 6: Escribe una función que calcule el factorial de un número de manera recursiva.\n",
    "\n",
    "# Se define la función que calcula el fatorial de un número de manera recursiva:\n",
    "def factorial(n):\n",
    "    # Para este caso se toma que el factorial de 0 o 1 es 1, a partir de ahí se calcula:\n",
    "    if n == 0 or n == 1:\n",
    "        return 1\n",
    "    else:\n",
    "        # Es aquí cuando se hace la recursiva:\n",
    "        return n * factorial(n - 1)\n",
    "\n",
    "# Por ejemplo marco como número:\n",
    "numero = 5\n",
    "resultado = factorial(numero)\n",
    "print(f\"El factorial de {numero} es: {resultado}\")\n"
   ]
  },
  {
   "cell_type": "code",
   "execution_count": 1,
   "id": "410a30e7",
   "metadata": {},
   "outputs": [
    {
     "name": "stdout",
     "output_type": "stream",
     "text": [
      "['(1, 2)', '(3, 4)', '(5, 6)']\n"
     ]
    }
   ],
   "source": [
    "# Kata 7: Genera una función que convierta una lista de tuplas a una lista de strings. Usa la función map()\n",
    "\n",
    "# Se define la función que convierte una lista de tuplas a una lista de strings:\n",
    "def tuplas_a_strings(lista_tuplas):\n",
    "    return list(map(lambda t: str(t), lista_tuplas))\n",
    "\n",
    "# Lista de tuplas:\n",
    "datos = [(1, 2), (3, 4), (5, 6)]\n",
    "resultado = tuplas_a_strings(datos)\n",
    "print(resultado)\n",
    "\n"
   ]
  },
  {
   "cell_type": "code",
   "execution_count": 3,
   "id": "c7930ca2",
   "metadata": {},
   "outputs": [
    {
     "name": "stdout",
     "output_type": "stream",
     "text": [
      "❌ Error: Debes ingresar valores numéricos.\n",
      "Programa finalizado.\n"
     ]
    }
   ],
   "source": [
    "# Kata 8: Escribe un programa que pida al usuario dos números e intente dividirlos. Si el usuario ingresa un valor no numérico\n",
    "# o intenta dividir por cero, maneja esas excepciones de manera adecuada. Asegúrate de mostrar un mensaje\n",
    "# indicando si la división fue exitosa o no.\n",
    "\n",
    "# Se define la función que maneja la división de dos números y sus excepciones:\n",
    "def dividir_numeros():\n",
    "    try:\n",
    "        # Se piden dos números:\n",
    "        num1 = float(input(\"Ingresa el primer número: \"))\n",
    "        num2 = float(input(\"Ingresa el segundo número: \"))\n",
    "        \n",
    "        # Se hace la división:\n",
    "        resultado = num1 / num2\n",
    "        \n",
    "    except ValueError:\n",
    "        # Si el número no es válido (por ejemplo, texto), entra aquí:\n",
    "        print(\"❌ Error: Debes ingresar valores numéricos.\")\n",
    "        \n",
    "    except ZeroDivisionError:\n",
    "        # Si se divide por 0, da lo siguiente:\n",
    "        print(\"❌ Error: No se puede dividir entre cero.\")\n",
    "        \n",
    "    else:\n",
    "        # Si no hay error, sale el resultado como la división anteriormente creada:\n",
    "        print(f\"✅ División exitosa: {num1} / {num2} = {resultado}\")\n",
    "        \n",
    "    finally:\n",
    "       \n",
    "        print(\"Programa finalizado.\")\n",
    "\n",
    "dividir_numeros()\n"
   ]
  },
  {
   "cell_type": "code",
   "execution_count": 4,
   "id": "f98a5c68",
   "metadata": {},
   "outputs": [
    {
     "name": "stdout",
     "output_type": "stream",
     "text": [
      "Mascotas permitidas: ['Perro', 'Gato', 'Hamster']\n"
     ]
    }
   ],
   "source": [
    "# Kata 9: Escribe una función que tome una lista de nombres de mascotas como parámetro y devuelva una nueva lista\n",
    "# excluyendo ciertas mascotas prohibidas en España. La lista de mascotas a excluir es [\"Mapache\", \"Tigre\",\n",
    "# \"Serpiente Pitón\", \"Cocodrilo\", \"Oso\"].Usa la función filter()\n",
    "\n",
    "# Se define la función que filtra las mascotas prohibidas:\n",
    "def filtrar_mascotas(mascotas):\n",
    "    mascotas_prohibidas = [\"Mapache\", \"Tigre\", \"Serpiente Pitón\", \"Cocodrilo\", \"Oso\"]\n",
    "    # Para excluir las mascotas prohibidas:\n",
    "    mascotas_permitidas = list(filter(lambda m: m not in mascotas_prohibidas, mascotas))\n",
    "    return mascotas_permitidas\n",
    "\n",
    "# Lista de mascotas: \n",
    "lista_mascotas = [\"Perro\", \"Gato\", \"Mapache\", \"Tigre\", \"Hamster\", \"Oso\"]\n",
    "resultado = filtrar_mascotas(lista_mascotas)\n",
    "print(\"Mascotas permitidas:\", resultado)\n",
    "\n"
   ]
  },
  {
   "cell_type": "code",
   "execution_count": 6,
   "id": "0538f443",
   "metadata": {},
   "outputs": [
    {
     "name": "stdout",
     "output_type": "stream",
     "text": [
      "❌ Error: La lista está vacía. ❌ Error al calcular el promedio.\n"
     ]
    }
   ],
   "source": [
    "# Kata 10: Escribe una función que reciba una lista de números y calcule su promedio. Si la lista está vacía, lanza una\n",
    "# excepción personalizada y maneja el error adecuadamente.\n",
    "\n",
    "# Esta será la excepción:\n",
    "class ListaVaciaError(Exception):\n",
    "    pass\n",
    "\n",
    "# Se define la función que calcula el promedio e una lista numérica:\n",
    "def calcular_promedio(numeros):\n",
    "    if len(numeros) == 0:\n",
    "        # Esta será ña frase que salte como excepción si la lista está vacía:\n",
    "        raise ListaVaciaError(\"La lista está vacía. ❌ Error al calcular el promedio.\")\n",
    "    \n",
    "    return sum(numeros) / len(numeros)\n",
    "\n",
    "# Lista:\n",
    "try:\n",
    "    lista = [] \n",
    "    promedio = calcular_promedio(lista)\n",
    "    print(f\"El promedio es: {promedio}\")\n",
    "except ListaVaciaError as e:\n",
    "    print(f\"❌ Error: {e}\")\n"
   ]
  },
  {
   "cell_type": "code",
   "execution_count": 9,
   "id": "fbf2b7bc",
   "metadata": {},
   "outputs": [
    {
     "name": "stdout",
     "output_type": "stream",
     "text": [
      "❌ Error: invalid literal for int() with base 10: ''\n",
      "Programa finalizado.\n"
     ]
    }
   ],
   "source": [
    "# Kata 11: Escribe un programa que pida al usuario que introduzca su edad. Si el usuario ingresa un valor no numérico o un\n",
    "# valor fuera del rango esperado (por ejemplo, menor que 0 o mayor que 120), maneja las excepciones\n",
    "# adecuadamente.\n",
    "\n",
    "# Se define la función que pide la edad y maneja las excepciones:\n",
    "def pedir_edad():\n",
    "    try:\n",
    "        edad = int(input(\"¿cual es tu edad?\"))\n",
    "        \n",
    "        if edad < 0 or edad > 120:\n",
    "            raise ValueError(\"La edad debe estar entre 0 y 120.\")\n",
    "        \n",
    "    except ValueError as e:\n",
    "        print(f\"❌ Error: {e}\")\n",
    "    else:\n",
    "        print(f\"✅ Edad válida: {edad} años.\")\n",
    "    finally:\n",
    "        print(\"Programa finalizado.\")\n",
    "\n",
    "pedir_edad()\n"
   ]
  },
  {
   "cell_type": "code",
   "execution_count": 11,
   "id": "ce4ba1d5",
   "metadata": {},
   "outputs": [
    {
     "name": "stdout",
     "output_type": "stream",
     "text": [
      "Longitud de las palabras: [2, 6, 2, 4, 1, 2, 5, 9]\n"
     ]
    }
   ],
   "source": [
    "# Kata 12: Genera una función que al recibir una frase devuelva una lista con la longitud de cada palabra. \n",
    "# Usa la función map()\n",
    "\n",
    "# Se define la función que calcula la longitud de cada palabra en una frase:\n",
    "def longitud_palabras(frase):\n",
    "    palabras = frase.split()  # Se divide la frase en palabras\n",
    "    # Se una \"map\" para calcular la longitud de cada palabra:\n",
    "    longitud = list(map(len, palabras))\n",
    "    return longitud\n",
    "\n",
    "# Frase:\n",
    "frase = \"Mi nombre es Raúl y me gusta programar\"\n",
    "resultado = longitud_palabras(frase)\n",
    "print(\"Longitud de las palabras:\", resultado)\n"
   ]
  },
  {
   "cell_type": "code",
   "execution_count": 14,
   "id": "82d26ab0",
   "metadata": {},
   "outputs": [
    {
     "name": "stdout",
     "output_type": "stream",
     "text": [
      "[('O', 'o'), ('Y', 'y'), ('L', 'l'), ('A', 'a'), ('H', 'h'), ('P', 'p'), ('T', 't'), ('N', 'n')]\n"
     ]
    }
   ],
   "source": [
    "# Kata 13: Genera una función la cual, para un conjunto de caracteres, devuelva una lista de tuplas con cada letra en\n",
    "# mayúsculas y minúsculas. Las letras no pueden estar repetidas .Usa la función map()\n",
    "\n",
    "# Se define la función que genera una lista de tuplas con letras en mayúsculas y minúsculas:\n",
    "def letras_may_min(texto):\n",
    "    # Se eliminan los caracteres duplicados usando \"set\"\n",
    "    caracteres_unicos = set(texto)\n",
    "    \n",
    "    # Se filtra solopor letras:\n",
    "    letras = list(filter(str.isalpha, caracteres_unicos))\n",
    "    \n",
    "    # Se usa \"map\" para crear las tuplas y lambda para convertir las letras a mayúsculas y minúsculas:\n",
    "    resultado = list(map(lambda c: (c.upper(), c.lower()), letras))\n",
    "    \n",
    "    return resultado\n",
    "\n",
    "# Texto a convertir:\n",
    "texto = \"hola python\"\n",
    "resultado = letras_may_min(texto)\n",
    "print(resultado)\n",
    "\n"
   ]
  },
  {
   "cell_type": "code",
   "execution_count": 15,
   "id": "6e0cf8b8",
   "metadata": {},
   "outputs": [
    {
     "name": "stdout",
     "output_type": "stream",
     "text": [
      "['Rojo', 'Rosa']\n"
     ]
    }
   ],
   "source": [
    "# Kata 14: 14. Crea una función que retorne las palabras de una lista de palabras que comience con una letra \n",
    "# en especifico. Usa la función filter()\n",
    "\n",
    "# Se define la función que filtra las palabras que comienzan con una letra específica:\n",
    "def filtrar_por_letra(palabras, letra):\n",
    "    # Se convierte la letra a minúscula para hacer la comparación insensible a mayúsculas y minúsculas:\n",
    "    letra = letra.lower()\n",
    "    \n",
    "    # Ahora se hace un filtro para indicar solo las letras que comienzan con la letra especificada más adelante:\n",
    "    resultado = list(filter(lambda palabra: palabra.lower().startswith(letra), palabras))\n",
    "    return resultado\n",
    "\n",
    "# Lista de palabras y letra específica:\n",
    "lista_palabras = [\"Rojo\", \"Verde\", \"Azul\", \"Amarillo\", \"Violeta\", \"Rosa\", \"Negro\"]\n",
    "letra = \"R\"\n",
    "resultado = filtrar_por_letra(lista_palabras, letra)\n",
    "print(resultado)\n"
   ]
  },
  {
   "cell_type": "code",
   "execution_count": 1,
   "id": "da3d98ba",
   "metadata": {},
   "outputs": [
    {
     "name": "stdout",
     "output_type": "stream",
     "text": [
      "Lista original: [1, 5, 10, 15, 20]\n",
      "Lista con +3: [4, 8, 13, 18, 23]\n"
     ]
    }
   ],
   "source": [
    "# Kata 15: Crea una función lambda que sume 3 a cada número de una lista dada.\n",
    "\n",
    "# Lista de números:\n",
    "numeros = [1, 5, 10, 15, 20]\n",
    "\n",
    "# Se una \"lambda\" y \"map\" para sumarle \"3\" a cada número de la lista:\n",
    "resultado = list(map(lambda x: x + 3, numeros))\n",
    "\n",
    "print(\"Lista original:\", numeros)\n",
    "print(\"Lista con +3:\", resultado)\n"
   ]
  },
  {
   "cell_type": "code",
   "execution_count": 2,
   "id": "18ec8ba6",
   "metadata": {},
   "outputs": [
    {
     "name": "stdout",
     "output_type": "stream",
     "text": [
      "['Hola,', 'nombre', 'Raúl']\n"
     ]
    }
   ],
   "source": [
    "# Kata 16: Escribe una función que tome una cadena de texto y un número entero n como parámetros y devuelva una lista de\n",
    "# todas las palabras que sean más largas que n. Usa la función filter()\n",
    "\n",
    "# Se define la función que filtra las palabras más largas que un número pactado, en este caso \"n\":\n",
    "def palabras_mas_largas_que(cadena, n):\n",
    "    \"\"\"\n",
    "    Devuelve una lista de palabras en 'cadena' que tengan más de 'n' caracteres.\n",
    "    \"\"\"\n",
    "    palabras = cadena.split()\n",
    "    return list(filter(lambda palabra: len(palabra) > n, palabras))\n",
    "\n",
    "# Cadena de texto seleccionada y valor para \"n\":\n",
    "texto = \"Hola, mi nombre es Raúl\"\n",
    "n = 2\n",
    "\n",
    "\n",
    "resultado = palabras_mas_largas_que(texto, n)\n",
    "print(resultado)\n"
   ]
  },
  {
   "cell_type": "code",
   "execution_count": 3,
   "id": "7017b275",
   "metadata": {},
   "outputs": [
    {
     "name": "stdout",
     "output_type": "stream",
     "text": [
      "572\n"
     ]
    }
   ],
   "source": [
    "# Kata 17: Crea una función que tome una lista de dígitos y devuelva el número correspondiente. Por ejemplo, [5,7,2]\n",
    "# corresponde al número quinientos setenta y dos (572). Usa la función reduce()\n",
    "\n",
    "# Se utiliza reduce para convertir una lista de dígitos en un número entero:\n",
    "from functools import reduce\n",
    "\n",
    "# Se define la función que convirte una lista de dígitos en un número:\n",
    "def lista_a_numero(digitos):\n",
    "    \"\"\"\n",
    "    Convierte una lista de dígitos en el número correspondiente.\n",
    "    \n",
    "    Ejemplo:\n",
    "    [5, 7, 2] → 572\n",
    "    \"\"\"\n",
    "    return reduce(lambda x, y: x * 10 + y, digitos)\n",
    "\n",
    "# Listado de números:\n",
    "lista = [5, 7, 2]\n",
    "numero = lista_a_numero(lista)\n",
    "print(numero)\n",
    "\n",
    "# Se van multiplicando los números por 10 y sumando el restante para formar el número completo.\n",
    "\n"
   ]
  },
  {
   "cell_type": "code",
   "execution_count": 4,
   "id": "999376c3",
   "metadata": {},
   "outputs": [
    {
     "name": "stdout",
     "output_type": "stream",
     "text": [
      "Estudiantes con calificación mayor o igual a 90:\n",
      "{'nombre': 'Celia', 'edad': 21, 'calificacion': 96}\n",
      "{'nombre': 'Sara', 'edad': 20, 'calificacion': 97}\n",
      "{'nombre': 'Raúl', 'edad': 22, 'calificacion': 100}\n"
     ]
    }
   ],
   "source": [
    "# Kata 18: Escribe un programa en Python que cree una lista de diccionarios que contenga información de estudiantes\n",
    "# (nombre, edad, calificación) y use la función filter para extraer a los estudiantes con una calificación mayor o igual a\n",
    "# 90. Usa la función filter()\n",
    "\n",
    "# Se propone la lista de estudiantes:\n",
    "estudiantes = [\n",
    "    {\"nombre\": \"Carlos\", \"edad\": 23, \"calificacion\": 85},\n",
    "    {\"nombre\": \"Celia\", \"edad\": 21, \"calificacion\": 96},\n",
    "    {\"nombre\": \"Sara\", \"edad\": 20, \"calificacion\": 97},\n",
    "    {\"nombre\": \"Raúl\", \"edad\": 22, \"calificacion\": 100}\n",
    "]\n",
    "\n",
    "# Se usa filter() para extraer los estudiantes con calificación mayor o igual a 90:\n",
    "mejores_estudiantes = list(filter(lambda estudiante: estudiante[\"calificacion\"] >= 90, estudiantes))\n",
    "\n",
    "\n",
    "print(\"Estudiantes con calificación mayor o igual a 90:\")\n",
    "for estudiante in mejores_estudiantes:\n",
    "    print(estudiante)\n",
    "\n",
    "\n"
   ]
  },
  {
   "cell_type": "code",
   "execution_count": 5,
   "id": "16ecb94d",
   "metadata": {},
   "outputs": [
    {
     "name": "stdout",
     "output_type": "stream",
     "text": [
      "[7, 15, 27]\n"
     ]
    }
   ],
   "source": [
    "# Kata 19: Crea una función lambda que filtre los números impares de una lista dada.\n",
    "\n",
    "# List:\n",
    "numeros = [2, 7, 14, 15, 27]\n",
    "\n",
    "# Se usa filter() con la función lambda para filtrar los números impares:\n",
    "impares = list(filter(lambda x: x % 2 != 0, numeros))\n",
    "\n",
    "print(impares)\n",
    "\n"
   ]
  },
  {
   "cell_type": "code",
   "execution_count": 6,
   "id": "30e3f31d",
   "metadata": {},
   "outputs": [
    {
     "name": "stdout",
     "output_type": "stream",
     "text": [
      "[2, 4, 6]\n"
     ]
    }
   ],
   "source": [
    "# Kata 20: Para una lista con elementos tipo integer y string obtén una nueva lista sólo con los valores int. Usa la función\n",
    "# filter()\n",
    "\n",
    "# Lista de elementos con enteros y cadenas:\n",
    "elementos = ['uno', 2, 'tres', 4, 'cinco', 6]\n",
    "\n",
    "# Se filtra solo los enteros de la lista usando filter() y la función lambda:\n",
    "solo_enteros = list(filter(lambda x: isinstance(x, int), elementos))\n",
    "\n",
    "print(solo_enteros)\n",
    "\n"
   ]
  },
  {
   "cell_type": "code",
   "execution_count": null,
   "id": "abe4df56",
   "metadata": {},
   "outputs": [],
   "source": []
  }
 ],
 "metadata": {
  "kernelspec": {
   "display_name": "Python 3",
   "language": "python",
   "name": "python3"
  },
  "language_info": {
   "codemirror_mode": {
    "name": "ipython",
    "version": 3
   },
   "file_extension": ".py",
   "mimetype": "text/x-python",
   "name": "python",
   "nbconvert_exporter": "python",
   "pygments_lexer": "ipython3",
   "version": "3.13.2"
  }
 },
 "nbformat": 4,
 "nbformat_minor": 5
}
