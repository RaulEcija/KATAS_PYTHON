{
 "cells": [
  {
   "cell_type": "code",
   "execution_count": 1,
   "id": "5002a56e",
   "metadata": {},
   "outputs": [
    {
     "name": "stdout",
     "output_type": "stream",
     "text": [
      "{'m': 2, 'i': 1, 'n': 1, 'o': 1, 'b': 1, 'r': 2, 'e': 2, 's': 1, 'a': 1, 'ú': 1, 'l': 1}\n"
     ]
    }
   ],
   "source": [
    "# Kata 1: Escribe una función que reciba una cadena de texto como parámetro y devuelva un diccionario con las frecuencias\n",
    "# de cada letra en la cadena. Los espacios no deben ser considerados.\n",
    "\n",
    "# Se escribe una función que muestre las frecuencias de las letras en una cadena de texto:\n",
    "def contar_frecuencias_letras(cadena):\n",
    "    frecuencias = {}\n",
    "    for letra in cadena:\n",
    "        if letra != \" \":  # Ignora los espacios\n",
    "            letra = letra.lower()  # Convierte todo a minúsculas\n",
    "            if letra in frecuencias:\n",
    "                frecuencias[letra] += 1\n",
    "            else:\n",
    "                frecuencias[letra] = 1\n",
    "    return frecuencias\n",
    "\n",
    "# Cadena de texto:\n",
    "texto = \"Mi nombre es Raúl\"\n",
    "\n",
    "# Para obtener el resultado:\n",
    "resultado = contar_frecuencias_letras(texto)\n",
    "print(resultado)"
   ]
  },
  {
   "cell_type": "code",
   "execution_count": null,
   "id": "2df41f8f",
   "metadata": {},
   "outputs": [],
   "source": []
  }
 ],
 "metadata": {
  "kernelspec": {
   "display_name": "Python 3",
   "language": "python",
   "name": "python3"
  },
  "language_info": {
   "codemirror_mode": {
    "name": "ipython",
    "version": 3
   },
   "file_extension": ".py",
   "mimetype": "text/x-python",
   "name": "python",
   "nbconvert_exporter": "python",
   "pygments_lexer": "ipython3",
   "version": "3.13.2"
  }
 },
 "nbformat": 4,
 "nbformat_minor": 5
}
